{
 "cells": [
  {
   "cell_type": "markdown",
   "id": "d2ebe6db",
   "metadata": {},
   "source": [
    "<h2 style=\"color:white; font-weight:bold;\">3) COLLECT THE DOUBLES COMPETITOR RANKINGS DATA FROM THE API  ENDPOINTS</h2>"
   ]
  },
  {
   "cell_type": "code",
   "execution_count": null,
   "id": "d9a3a60e",
   "metadata": {},
   "outputs": [],
   "source": [
    "import mysql.connector\n",
    "import pandas as pd\n",
    "from tabulate import tabulate"
   ]
  },
  {
   "cell_type": "code",
   "execution_count": null,
   "id": "d25cf990",
   "metadata": {},
   "outputs": [],
   "source": [
    "# Connect to your MySQL database\n",
    "conn = mysql.connector.connect(\n",
    "    host='localhost',\n",
    "    user='root',\n",
    "    password='#sql',\n",
    "    database='Tennis')"
   ]
  },
  {
   "cell_type": "markdown",
   "id": "5be4fd03",
   "metadata": {},
   "source": [
    "\n",
    "<h3 style=\"color:white; font-weight:bold;\">1)Get all competitors with their rank and points</h3>\n"
   ]
  },
  {
   "cell_type": "code",
   "execution_count": null,
   "id": "6a6e61ef",
   "metadata": {},
   "outputs": [],
   "source": [
    "# SQL query\n",
    "query = \"\"\"SELECT c.name, r.rank, r.points\n",
    "FROM Competitors c\n",
    "JOIN Competitor_Rankings r ON c.competitor_id = r.competitor_id;\n",
    "\"\"\"\n",
    "# Read query into DataFrame\n",
    "df = pd.read_sql(query, conn)\n",
    "df"
   ]
  },
  {
   "cell_type": "markdown",
   "id": "8b9608a3",
   "metadata": {},
   "source": [
    "<h3 style=\"color:white; font-weight:bold;\">2) Find competitors ranked in the top 5</h3>\n"
   ]
  },
  {
   "cell_type": "code",
   "execution_count": null,
   "id": "649a62c4",
   "metadata": {},
   "outputs": [],
   "source": [
    "# SQL query\n",
    "query = \"\"\"SELECT c.name, r.rank, r.points\n",
    "FROM Competitors c\n",
    "JOIN Competitor_Rankings r ON c.competitor_id = r.competitor_id\n",
    "WHERE r.rank <= 5\n",
    "ORDER BY r.rank;\n",
    "\n",
    "\"\"\"\n",
    "# Read query into DataFrame\n",
    "df = pd.read_sql(query, conn)\n",
    "df"
   ]
  },
  {
   "cell_type": "markdown",
   "id": "1e9ee739",
   "metadata": {},
   "source": [
    "<h3 style=\"color:white; font-weight:bold;\">3) List competitors with no rank movement (stable rank)</h3>\n"
   ]
  },
  {
   "cell_type": "code",
   "execution_count": null,
   "id": "2e6fbc8c",
   "metadata": {},
   "outputs": [],
   "source": [
    "# SQL query\n",
    "query = \"\"\"SELECT c.name, r.rank, r.points, r.movement\n",
    "FROM competitors c\n",
    "JOIN competitor_rankings r ON c.competitor_id = r.competitor_id\n",
    "WHERE r.movement = 0;\n",
    "\"\"\"\n",
    "# Read query into DataFrame\n",
    "df = pd.read_sql(query, conn)\n",
    "df"
   ]
  },
  {
   "cell_type": "markdown",
   "id": "bc195272",
   "metadata": {},
   "source": [
    "<h3 style=\"color:white; font-weight:bold;\">4) Get the total points of competitors from a specific country (e.g., Croatia)</h3>\n"
   ]
  },
  {
   "cell_type": "code",
   "execution_count": null,
   "id": "66336025",
   "metadata": {},
   "outputs": [],
   "source": [
    "# SQL query\n",
    "query = \"\"\"SELECT c.country, SUM(r.points) AS total_points\n",
    "FROM Competitors c\n",
    "JOIN Competitor_Rankings r ON c.competitor_id = r.competitor_id\n",
    "WHERE c.country = 'Croatia'\n",
    "GROUP BY c.country;\n",
    "\"\"\"\n",
    "# Read query into DataFrame\n",
    "df = pd.read_sql(query, conn)\n",
    "df"
   ]
  },
  {
   "cell_type": "markdown",
   "id": "170c95f5",
   "metadata": {},
   "source": [
    "<h3 style=\"color:white; font-weight:bold;\">5) Count the number of competitors per country</h3>\n"
   ]
  },
  {
   "cell_type": "code",
   "execution_count": null,
   "id": "235b4510",
   "metadata": {},
   "outputs": [],
   "source": [
    "# SQL query\n",
    "query = \"\"\"SELECT country, COUNT(competitor_id) AS num_competitors\n",
    "FROM Competitors\n",
    "GROUP BY country;\n",
    "\"\"\"\n",
    "# Read query into DataFrame\n",
    "df = pd.read_sql(query, conn)\n",
    "df"
   ]
  },
  {
   "cell_type": "markdown",
   "id": "062f1cab",
   "metadata": {},
   "source": [
    "<h3 style=\"color:white; font-weight:bold;\">6) Find competitors with the highest points in the current week</h3>\n"
   ]
  },
  {
   "cell_type": "code",
   "execution_count": null,
   "id": "a316c5a9",
   "metadata": {},
   "outputs": [],
   "source": [
    "# SQL query\n",
    "query = \"\"\"SELECT c.competitor_id, c.name, r.points\n",
    "FROM Competitors c\n",
    "JOIN Competitor_Rankings r ON c.competitor_id = r.competitor_id\n",
    "ORDER BY r.points DESC\n",
    "LIMIT 3;\n",
    "\"\"\"\n",
    "# Read query into DataFrame\n",
    "df = pd.read_sql(query, conn)\n",
    "df"
   ]
  }
 ],
 "metadata": {
  "kernelspec": {
   "display_name": ".venv",
   "language": "python",
   "name": "python3"
  },
  "language_info": {
   "codemirror_mode": {
    "name": "ipython",
    "version": 3
   },
   "file_extension": ".py",
   "mimetype": "text/x-python",
   "name": "python",
   "nbconvert_exporter": "python",
   "pygments_lexer": "ipython3",
   "version": "3.12.3"
  }
 },
 "nbformat": 4,
 "nbformat_minor": 5
}
