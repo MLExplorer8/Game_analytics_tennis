{
 "cells": [
  {
   "attachments": {
    "image.png": {
     "image/png": "[encoded data removed]"
    }
   },
   "cell_type": "markdown",
   "id": "b2d5c375",
   "metadata": {},
   "source": [
    "![image.png](attachment:image.png)"
   ]
  },
  {
   "cell_type": "markdown",
   "id": "370a3028",
   "metadata": {},
   "source": [
    "<h3 style=\"color:white; font-weight:bold;\">Import necessary libraries</h3>\n"
   ]
  },
  {
   "cell_type": "code",
   "execution_count": null,
   "id": "2e3ffeb6",
   "metadata": {},
   "outputs": [],
   "source": [
    "import json\n",
    "import pandas as pd\n",
    "import mysql.connector"
   ]
  },
  {
   "cell_type": "code",
   "execution_count": null,
   "id": "931c2cc9",
   "metadata": {},
   "outputs": [],
   "source": [
    "import streamlit as st"
   ]
  },
  {
   "cell_type": "markdown",
   "id": "dd415d72",
   "metadata": {},
   "source": [
    "<h3 style=\"color:white; font-weight:bold;\">1) COLLECT THE COMPETITION DATA FROM THE API ENDPOINTS</h3>"
   ]
  },
  {
   "cell_type": "code",
   "execution_count": null,
   "id": "d3f0596f",
   "metadata": {},
   "outputs": [],
   "source": [
    "import requests\n",
    "\n",
    "url = \"https://api.sportradar.com/tennis/trial/v3/en/competitions.json?api_key=yourkey\"\n",
    "\n",
    "headers = {\"accept\": \"application/json\"}\n",
    "\n",
    "response = requests.get(url, headers=headers)\n",
    "\n",
    "print(response.text)"
   ]
  },
  {
   "cell_type": "code",
   "execution_count": null,
   "id": "db668e5e",
   "metadata": {},
   "outputs": [],
   "source": [
    "#json string to python object\n",
    "data = json.loads(response.text)"
   ]
  },
  {
   "cell_type": "code",
   "execution_count": null,
   "id": "eb7f4784",
   "metadata": {},
   "outputs": [],
   "source": [
    "#print data\n",
    "data"
   ]
  },
  {
   "cell_type": "code",
   "execution_count": null,
   "id": "92bd58de",
   "metadata": {},
   "outputs": [],
   "source": [
    "#check number of keys\n",
    "data.keys()"
   ]
  },
  {
   "cell_type": "code",
   "execution_count": null,
   "id": "5a8d4674",
   "metadata": {},
   "outputs": [],
   "source": [
    "# Extract keys from the competition dictionariesto check  how many keys are present\n",
    "competition_keys = set()\n",
    "\n",
    "# Loop through each competition\n",
    "for competition in data['competitions']:\n",
    "    competition_keys.update(competition.keys())\n",
    "\n",
    "print(competition_keys)"
   ]
  },
  {
   "cell_type": "code",
   "execution_count": null,
   "id": "a0eefc3f",
   "metadata": {},
   "outputs": [],
   "source": [
    "# Assuming data['competitions'] is the list of competitions\n",
    "category_keys = set()\n",
    "\n",
    "# Loop through each competition\n",
    "for competition in data['competitions']:\n",
    "    # Check if 'category' key exists, and extract its keys\n",
    "    if 'category' in competition:\n",
    "        category_keys.update(competition['category'].keys())\n",
    "\n",
    "print(category_keys)"
   ]
  },
  {
   "cell_type": "code",
   "execution_count": null,
   "id": "68935dbb",
   "metadata": {},
   "outputs": [],
   "source": [
    "# creating list of dict to store category_id and category_name using list comprehension\n",
    "category_table= [\n",
    "    {'category_id': comp['category']['id'], 'category_name': comp['category']['name']}\n",
    "    for comp in data['competitions']\n",
    "]\n",
    "category_table"
   ]
  },
  {
   "cell_type": "code",
   "execution_count": null,
   "id": "f171eea7",
   "metadata": {},
   "outputs": [],
   "source": [
    "# Converting python object of category_table to DataFrame using pandas\n",
    "df_cat = pd.DataFrame(category_table)\n",
    "\n",
    "# Displaying the DataFrame\n",
    "print(df_cat)"
   ]
  },
  {
   "cell_type": "code",
   "execution_count": null,
   "id": "87ae9d57",
   "metadata": {},
   "outputs": [],
   "source": [
    "#count values\n",
    "df_cat['category_id'].value_counts()"
   ]
  },
  {
   "cell_type": "markdown",
   "id": "dd0dd6c4",
   "metadata": {},
   "source": [
    "\n",
    "<h3 style=\"color:white; font-weight:bold;\">since some rows are keep repeating , need to do a check on unique entries</h3>"
   ]
  },
  {
   "cell_type": "code",
   "execution_count": null,
   "id": "cf44aaad",
   "metadata": {},
   "outputs": [],
   "source": [
    "for column in df_cat.columns:\n",
    "    unique_vals = df_cat[column].unique() # in each column check for unique values\n",
    "    print(f\"Column: {column}\")\n",
    "    print(f\"Unique Count: {len(unique_vals)}\")\n",
    "    print(f\"Unique Values: {unique_vals}\\n\")  #\\n for next line print"
   ]
  },
  {
   "cell_type": "code",
   "execution_count": null,
   "id": "fee12647",
   "metadata": {},
   "outputs": [],
   "source": [
    "#lets check how many unique entries present\n",
    "df_unique_categories = df_cat.drop_duplicates(subset=[\"category_id\", \"category_name\"])\n",
    "df_unique_categories"
   ]
  },
  {
   "cell_type": "code",
   "execution_count": null,
   "id": "38340f4c",
   "metadata": {},
   "outputs": [],
   "source": [
    "df_unique_categories.info()"
   ]
  },
  {
   "cell_type": "code",
   "execution_count": null,
   "id": "8626e3f6",
   "metadata": {},
   "outputs": [],
   "source": [
    "for column in df_unique_categories.columns:\n",
    "    unique_vals = df_unique_categories[column].unique()\n",
    "    print(f\"Column: {column}\")\n",
    "    print(f\"Unique Count: {len(unique_vals)}\")\n",
    "    #print(f\"Unique Values: {unique_vals}\\n\")"
   ]
  },
  {
   "cell_type": "markdown",
   "id": "26ba12bb",
   "metadata": {},
   "source": [
    "<h3 style=\"color:white; font-weight:bold;\">creating competions_table</h3>"
   ]
  },
  {
   "cell_type": "code",
   "execution_count": null,
   "id": "f108d58e",
   "metadata": {},
   "outputs": [],
   "source": [
    "#using list comprehension \n",
    "competitions_table_1 = [\n",
    "    {\n",
    "        'competition_id': comp.get('id'),\n",
    "        'competition_name': comp.get('name'),\n",
    "        'parent_id': comp.get('parent_id'),\n",
    "        'type': comp.get('type'),\n",
    "        'gender': comp.get('gender'),\n",
    "        'category_id': comp.get('category', {}).get('id')  #  safely extract category_id--get function handles none as well\n",
    "    }\n",
    "    for comp in data['competitions']\n",
    "]\n"
   ]
  },
  {
   "cell_type": "code",
   "execution_count": null,
   "id": "93afe7d4",
   "metadata": {},
   "outputs": [],
   "source": [
    "competitions_table_1"
   ]
  },
  {
   "cell_type": "code",
   "execution_count": null,
   "id": "66894684",
   "metadata": {},
   "outputs": [],
   "source": [
    "# Convert to DataFrame\n",
    "df_comp = pd.DataFrame(competitions_table_1)"
   ]
  },
  {
   "cell_type": "code",
   "execution_count": null,
   "id": "4555d615",
   "metadata": {},
   "outputs": [],
   "source": [
    "print(df_comp)"
   ]
  },
  {
   "cell_type": "code",
   "execution_count": null,
   "id": "f69c451b",
   "metadata": {},
   "outputs": [],
   "source": [
    "df_comp.info()"
   ]
  },
  {
   "cell_type": "code",
   "execution_count": null,
   "id": "206c753e",
   "metadata": {},
   "outputs": [],
   "source": [
    "#check unique values\n",
    "for column in df_comp.columns:\n",
    "    unique_vals = df_comp[column].unique()\n",
    "    print(f\"Column: {column}\")\n",
    "    print(f\"Unique Count: {len(unique_vals)}\")\n",
    "    print(f\"Unique Values: {unique_vals}\\n\")"
   ]
  },
  {
   "cell_type": "markdown",
   "id": "f7e7cdda",
   "metadata": {},
   "source": [
    "<h3 style=\"color:white; font-weight:bold;\">dataframe to sql tables</h3>\n"
   ]
  },
  {
   "cell_type": "code",
   "execution_count": null,
   "id": "699737d6",
   "metadata": {},
   "outputs": [],
   "source": [
    "import mysql.connector\n",
    "\n",
    "#Connect to MySQL server\n",
    "connection = mysql.connector.connect(\n",
    "    host='localhost',\n",
    "    user='root',\n",
    "    password='password'  # Change to your actual password\n",
    ")\n",
    "cursor = connection.cursor()"
   ]
  },
  {
   "cell_type": "markdown",
   "id": "d5d85c04",
   "metadata": {},
   "source": [
    "Create a New Database "
   ]
  },
  {
   "cell_type": "code",
   "execution_count": null,
   "id": "97e6f9a3",
   "metadata": {},
   "outputs": [],
   "source": [
    "# Create database \n",
    "cursor.execute(\"CREATE DATABASE IF NOT EXISTS Tennis\")\n",
    "cursor.execute(\"USE Tennis\")"
   ]
  },
  {
   "cell_type": "code",
   "execution_count": null,
   "id": "027dc68f",
   "metadata": {},
   "outputs": [],
   "source": [
    "# Create Categories table\n",
    "cursor.execute(\"\"\"\n",
    "CREATE TABLE IF NOT EXISTS Categories (\n",
    "    category_id VARCHAR(50) PRIMARY KEY,\n",
    "    category_name VARCHAR(100) NOT NULL\n",
    ")\n",
    "\"\"\")"
   ]
  },
  {
   "cell_type": "code",
   "execution_count": null,
   "id": "ecc6219c",
   "metadata": {},
   "outputs": [],
   "source": [
    "#  Create Competitions table\n",
    "cursor.execute(\"\"\"\n",
    "CREATE TABLE IF NOT EXISTS Competitions (\n",
    "    competition_id VARCHAR(50) PRIMARY KEY,\n",
    "    competition_name VARCHAR(100) NOT NULL,\n",
    "    parent_id VARCHAR(50),\n",
    "    type VARCHAR(20) NOT NULL,\n",
    "    gender VARCHAR(10) NOT NULL,\n",
    "    category_id VARCHAR(50),\n",
    "    FOREIGN KEY (category_id) REFERENCES Categories(category_id)\n",
    ")\n",
    "\"\"\")\n"
   ]
  },
  {
   "cell_type": "code",
   "execution_count": null,
   "id": "b667a493",
   "metadata": {},
   "outputs": [],
   "source": [
    "#  Insert data into Categories\n",
    "categories_data = df_unique_categories.values.tolist()\n",
    "cursor.executemany(\"\"\"\n",
    "INSERT IGNORE INTO Categories (category_id, category_name)\n",
    "VALUES (%s, %s)\n",
    "\"\"\", categories_data)"
   ]
  },
  {
   "cell_type": "code",
   "execution_count": null,
   "id": "aaa05f7d",
   "metadata": {},
   "outputs": [],
   "source": [
    "#  Insert data into Competitions\n",
    "competitions_data = df_comp[[\n",
    "    'competition_id', 'competition_name', 'parent_id', 'type', 'gender', 'category_id'\n",
    "]].values.tolist()\n",
    "\n",
    "cursor.executemany(\"\"\"\n",
    "INSERT IGNORE INTO Competitions (\n",
    "    competition_id, competition_name, parent_id, type, gender, category_id\n",
    ")\n",
    "VALUES (%s, %s, %s, %s, %s, %s)\n",
    "\"\"\", competitions_data)"
   ]
  },
  {
   "cell_type": "code",
   "execution_count": null,
   "id": "4012856c",
   "metadata": {},
   "outputs": [],
   "source": [
    "# Step 7: Commit and close\n",
    "connection.commit()\n",
    "cursor.close()\n",
    "connection.close()"
   ]
  },
  {
   "cell_type": "markdown",
   "id": "a72f64cf",
   "metadata": {},
   "source": [
    "\n",
    "<h3 style=\"color:white; font-weight:bold;\">COLLECT THE COMPLEXES DATA FROM THE API ENDPOINTS</h3>\n"
   ]
  },
  {
   "cell_type": "code",
   "execution_count": null,
   "id": "04e3b741",
   "metadata": {},
   "outputs": [],
   "source": [
    "import requests\n",
    "\n",
    "url = \"https://api.sportradar.com/tennis/trial/v3/en/complexes.json?api_key=yourkey\"\n",
    "\n",
    "headers = {\"accept\": \"application/json\"}\n",
    "\n",
    "response = requests.get(url, headers=headers)\n",
    "\n",
    "print(response.text)"
   ]
  },
  {
   "cell_type": "code",
   "execution_count": null,
   "id": "df8022a8",
   "metadata": {},
   "outputs": [],
   "source": [
    "#json string to python object\n",
    "data_1 = json.loads(response.text)"
   ]
  },
  {
   "cell_type": "code",
   "execution_count": null,
   "id": "0f645157",
   "metadata": {},
   "outputs": [],
   "source": [
    "#print data\n",
    "data_1"
   ]
  },
  {
   "cell_type": "code",
   "execution_count": null,
   "id": "9ed695b8",
   "metadata": {},
   "outputs": [],
   "source": [
    "# creating list of dict to store omplex_id and complex_name using list comprehension\n",
    "complex_table= [\n",
    "    {'complex_id': comp['id'], 'complex_name': comp['name']}\n",
    "    for comp in data_1['complexes']\n",
    "]\n",
    "complex_table\n"
   ]
  },
  {
   "cell_type": "code",
   "execution_count": null,
   "id": "0510a458",
   "metadata": {},
   "outputs": [],
   "source": [
    "# Converting python object of complex_table to DataFrame using pandas\n",
    "df_complex = pd.DataFrame(complex_table)\n",
    "\n",
    "# Displaying the DataFrame\n",
    "print(df_complex.head(20))"
   ]
  },
  {
   "cell_type": "code",
   "execution_count": null,
   "id": "3b91ac80",
   "metadata": {},
   "outputs": [],
   "source": [
    "#check the table for duplicates\n",
    "df_complex.describe()"
   ]
  },
  {
   "cell_type": "code",
   "execution_count": null,
   "id": "6868c52b",
   "metadata": {},
   "outputs": [],
   "source": [
    "#sanity check for unique values\n",
    "for column in df_complex.columns:\n",
    "    unique_vals = df_complex[column].unique()\n",
    "    print(f\"Column: {column}\")\n",
    "    print(f\"Unique Count: {len(unique_vals)}\")\n",
    "    print(f\"Unique Values: {unique_vals}\\n\")"
   ]
  },
  {
   "cell_type": "code",
   "execution_count": null,
   "id": "01768e5f",
   "metadata": {},
   "outputs": [],
   "source": [
    "# Get unique values\n",
    "unique_values = df_complex['complex_id'].nunique()\n",
    "print(unique_values)"
   ]
  },
  {
   "cell_type": "markdown",
   "id": "286ac9ba",
   "metadata": {},
   "source": [
    "venue_id--> primary key\n",
    "venue_name\n",
    "city_name\n",
    "country_name\n",
    "country_code\n",
    "timezone\n",
    "complex_id-->foreign key refernce"
   ]
  },
  {
   "cell_type": "code",
   "execution_count": null,
   "id": "d5a29d77",
   "metadata": {},
   "outputs": [],
   "source": [
    "df_venues = pd.DataFrame([\n",
    "    {\n",
    "        'venue_id': venue['id'],\n",
    "        'venue_name': venue['name'],\n",
    "        'city_name': venue.get('city_name'),\n",
    "        'country_name': venue.get('country_name'),\n",
    "        'country_code': venue.get('country_code'),\n",
    "        'timezone': venue.get('timezone'),\n",
    "        'complex_id': complexx['id']\n",
    "    }\n",
    "    for complexx in data_1['complexes']\n",
    "    for venue in complexx.get('venues', [])\n",
    "])"
   ]
  },
  {
   "cell_type": "code",
   "execution_count": null,
   "id": "f3f04cfc",
   "metadata": {},
   "outputs": [],
   "source": [
    "# check unique values in column\n",
    "for column in df_venues.columns:\n",
    "    unique_vals = df_venues[column].unique()\n",
    "    print(f\"Column: {column}\")\n",
    "    print(f\"Unique Count: {len(unique_vals)}\\n\")\n",
    "    #print(f\"Unique Values: {unique_vals}\\n\")"
   ]
  },
  {
   "cell_type": "code",
   "execution_count": null,
   "id": "eaa537c8",
   "metadata": {},
   "outputs": [],
   "source": [
    "print(df_venues)"
   ]
  },
  {
   "cell_type": "code",
   "execution_count": null,
   "id": "d5b985f5",
   "metadata": {},
   "outputs": [],
   "source": [
    "#dataframes are ready, just inserting into sql\n",
    "\n",
    "import mysql.connector\n",
    "\n",
    "# Connect to MySQL\n",
    "conn = mysql.connector.connect(\n",
    "    host='localhost',\n",
    "    user='root',\n",
    "    password='password',    # your password\n",
    "    database='Tennis'   # your database name\n",
    ")\n",
    "\n",
    "cursor = conn.cursor()"
   ]
  },
  {
   "cell_type": "code",
   "execution_count": null,
   "id": "d5bec064",
   "metadata": {},
   "outputs": [],
   "source": [
    "#create complex table\n",
    "cursor.execute(\"\"\"\n",
    "CREATE TABLE IF NOT EXISTS Complexes (\n",
    "    complex_id VARCHAR(50) PRIMARY KEY,\n",
    "    complex_name VARCHAR(255) NOT NULL\n",
    ")\n",
    "\"\"\")"
   ]
  },
  {
   "cell_type": "code",
   "execution_count": null,
   "id": "f28bb807",
   "metadata": {},
   "outputs": [],
   "source": [
    "#create venue table\n",
    "cursor.execute(\"\"\"\n",
    "CREATE TABLE IF NOT EXISTS Venues (\n",
    "    venue_id VARCHAR(50) PRIMARY KEY,\n",
    "    venue_name VARCHAR(255) NOT NULL,\n",
    "    city_name VARCHAR(100),\n",
    "    country_name VARCHAR(100),\n",
    "    country_code VARCHAR(10),\n",
    "    timezone VARCHAR(100),\n",
    "    complex_id VARCHAR(50),\n",
    "    FOREIGN KEY (complex_id) REFERENCES Complexes(complex_id)\n",
    ")\n",
    "\"\"\")"
   ]
  },
  {
   "cell_type": "markdown",
   "id": "bd5dc1cc",
   "metadata": {},
   "source": [
    "Insert Data into Complexes"
   ]
  },
  {
   "cell_type": "code",
   "execution_count": null,
   "id": "6b95c273",
   "metadata": {},
   "outputs": [],
   "source": [
    "complex_data = df_complex.values.tolist()\n",
    "\n",
    "#insert data into complexs\n",
    "cursor.executemany(\"\"\"\n",
    "INSERT IGNORE INTO Complexes (complex_id, complex_name)\n",
    "VALUES (%s, %s)\n",
    "\"\"\", complex_data)"
   ]
  },
  {
   "cell_type": "markdown",
   "id": "d4fd05ae",
   "metadata": {},
   "source": [
    "Insert Data into Venues"
   ]
  },
  {
   "cell_type": "code",
   "execution_count": null,
   "id": "148b3316",
   "metadata": {},
   "outputs": [],
   "source": [
    "complex_venues = df_venues.values.tolist()\n",
    "\n",
    "\n",
    "#insert data to venues\n",
    "cursor.executemany(\"\"\"\n",
    "INSERT IGNORE INTO Venues (\n",
    "    venue_id, venue_name, city_name, country_name, country_code, timezone, complex_id\n",
    ")\n",
    "VALUES (%s, %s, %s, %s, %s, %s, %s)\n",
    "\"\"\", complex_venues)"
   ]
  },
  {
   "cell_type": "code",
   "execution_count": null,
   "id": "90ad80e8",
   "metadata": {},
   "outputs": [],
   "source": [
    " #Commit and Close Connection\n",
    "conn.commit()\n",
    "conn.close()"
   ]
  },
  {
   "cell_type": "markdown",
   "id": "f0444c6f",
   "metadata": {},
   "source": [
    "\n",
    "\n",
    "<h3 style=\"color:white; font-weight:bold;\">COLLECT THE DOUBLES COMPETITOR RANKINGS DATA FROM THE API\n",
    "\n",
    "ENDPOINTS</h3>\n"
   ]
  },
  {
   "cell_type": "code",
   "execution_count": null,
   "id": "5bf33bef",
   "metadata": {},
   "outputs": [],
   "source": [
    "import requests\n",
    "\n",
    "url = \"https://api.sportradar.com/tennis/trial/v3/en/double_competitors_rankings.json?api_key=yourkey\"\n",
    "\n",
    "headers = {\"accept\": \"application/json\"}\n",
    "\n",
    "response_2 = requests.get(url, headers=headers)\n",
    "\n",
    "print(response_2.text)"
   ]
  },
  {
   "cell_type": "code",
   "execution_count": null,
   "id": "e46a4646",
   "metadata": {},
   "outputs": [],
   "source": [
    "data_2 = json.loads(response_2.text)"
   ]
  },
  {
   "cell_type": "code",
   "execution_count": null,
   "id": "8245f233",
   "metadata": {},
   "outputs": [],
   "source": [
    "data_2"
   ]
  },
  {
   "cell_type": "code",
   "execution_count": null,
   "id": "2d9af1d6",
   "metadata": {},
   "outputs": [],
   "source": [
    "#check keys\n",
    "data_2.keys()"
   ]
  },
  {
   "cell_type": "code",
   "execution_count": null,
   "id": "4dcac1f9",
   "metadata": {},
   "outputs": [],
   "source": [
    "# Extract data using list comprehension\n",
    "Competitor_Rankings = [\n",
    "    {\n",
    "        'rank': competitor['rank'],\n",
    "        'movement': competitor['movement'],\n",
    "        'points': competitor['points'],\n",
    "        'competitions_played': competitor['competitions_played'],\n",
    "        'competitor_id': competitor['competitor']['id']\n",
    "    }\n",
    "    for ranking in data_2['rankings']\n",
    "    for competitor in ranking['competitor_rankings']\n",
    "]\n"
   ]
  },
  {
   "cell_type": "code",
   "execution_count": null,
   "id": "2c877201",
   "metadata": {},
   "outputs": [],
   "source": [
    "# Convert to DataFrame\n",
    "df_Competitor_Rankings = pd.DataFrame(Competitor_Rankings)\n",
    "print(df_Competitor_Rankings)"
   ]
  },
  {
   "cell_type": "code",
   "execution_count": null,
   "id": "b571346a",
   "metadata": {},
   "outputs": [],
   "source": [
    "# Assuming your DataFrame is called df\n",
    "df_filtered = df_Competitor_Rankings[df_Competitor_Rankings['rank'] <= 5][['competitor_id', 'rank']]\n",
    "\n",
    "# Display the filtered DataFrame\n",
    "print(df_filtered)\n",
    "len(df_filtered['competitor_id'])"
   ]
  },
  {
   "cell_type": "code",
   "execution_count": null,
   "id": "735a71f5",
   "metadata": {},
   "outputs": [],
   "source": [
    "df_Competitor_Rankings.info()"
   ]
  },
  {
   "cell_type": "code",
   "execution_count": null,
   "id": "ea93a78e",
   "metadata": {},
   "outputs": [],
   "source": [
    "#check unique values\n",
    "for column in df_Competitor_Rankings.columns:\n",
    "    unique_vals = df_Competitor_Rankings[column].unique()\n",
    "    print(f\"Column: {column}\")\n",
    "    print(f\"Unique Count: {len(unique_vals)}\")\n",
    "    #print(f\"Unique Values: {unique_vals}\\n\")"
   ]
  },
  {
   "cell_type": "markdown",
   "id": "2fef8e42",
   "metadata": {},
   "source": [
    "Competitors Table\n",
    "This table will store detailed information about each competitor."
   ]
  },
  {
   "cell_type": "code",
   "execution_count": null,
   "id": "b1bc8ad8",
   "metadata": {},
   "outputs": [],
   "source": [
    "# Suppose  JSON object is stored in a variable called data\n",
    "competitors = [\n",
    "    {\n",
    "        'competitor_id': comp['competitor'].get('id'),\n",
    "        'name': comp['competitor'].get('name'),\n",
    "        'country': comp['competitor'].get('country'),\n",
    "        'country_code': comp['competitor'].get('country_code'),\n",
    "        'abbreviation': comp['competitor'].get('abbreviation')\n",
    "    }\n",
    "    for ranking in data_2['rankings']\n",
    "    for comp in ranking.get('competitor_rankings', [])\n",
    "]"
   ]
  },
  {
   "cell_type": "code",
   "execution_count": null,
   "id": "36fac0dc",
   "metadata": {},
   "outputs": [],
   "source": [
    "# Step 2: Convert the extracted data into a DataFrame\n",
    "df_competitors = pd.DataFrame(competitors)"
   ]
  },
  {
   "cell_type": "code",
   "execution_count": null,
   "id": "2a333a01",
   "metadata": {},
   "outputs": [],
   "source": [
    "#check unique count\n",
    "for column in df_competitors.columns:\n",
    "    unique_vals = df_competitors[column].unique()\n",
    "    print(f\"Column: {column}\")\n",
    "    print(f\"Unique Count: {len(unique_vals)}\")\n",
    "    #print(f\"Unique Values: {unique_vals}\\n\")"
   ]
  },
  {
   "cell_type": "code",
   "execution_count": null,
   "id": "884e74cf",
   "metadata": {},
   "outputs": [],
   "source": [
    "# Display the DataFrame\n",
    "print(df_competitors)"
   ]
  },
  {
   "cell_type": "code",
   "execution_count": null,
   "id": "b7ca742f",
   "metadata": {},
   "outputs": [],
   "source": [
    "df_competitors.info()"
   ]
  },
  {
   "cell_type": "code",
   "execution_count": null,
   "id": "f1dcbeb8",
   "metadata": {},
   "outputs": [],
   "source": [
    "# dataframes are ready, lets insert data\n",
    "import mysql.connector\n",
    "\n",
    "# Connect to the MySQL database\n",
    "conn = mysql.connector.connect(\n",
    "    host=\"localhost\",\n",
    "    user=\"root\",\n",
    "    password=\"password\", #your password\n",
    "    database=\"Tennis\"\n",
    ")\n",
    "cursor = conn.cursor()\n"
   ]
  },
  {
   "cell_type": "code",
   "execution_count": null,
   "id": "fcf823cf",
   "metadata": {},
   "outputs": [],
   "source": [
    "# Create Competitors table\n",
    "cursor.execute(\"\"\"\n",
    "CREATE TABLE IF NOT EXISTS Competitors (\n",
    "    competitor_id VARCHAR(50) PRIMARY KEY,\n",
    "    name VARCHAR(100) NOT NULL,\n",
    "    country VARCHAR(100) NOT NULL,\n",
    "    country_code CHAR(3) NOT NULL,\n",
    "    abbreviation VARCHAR(10) NOT NULL\n",
    ");\n",
    "\"\"\")"
   ]
  },
  {
   "cell_type": "code",
   "execution_count": null,
   "id": "821eb408",
   "metadata": {},
   "outputs": [],
   "source": [
    "# Prepare the data from df_competitors\n",
    "competitor_data = df_competitors.values.tolist()\n",
    "\n",
    "# Insert into Competitors\n",
    "cursor.executemany(\"\"\"\n",
    "INSERT IGNORE INTO Competitors (competitor_id, name, country, country_code, abbreviation)\n",
    "VALUES (%s, %s, %s, %s, %s)\n",
    "\"\"\", competitor_data)\n",
    "\n",
    "conn.commit()"
   ]
  },
  {
   "cell_type": "code",
   "execution_count": null,
   "id": "865724aa",
   "metadata": {},
   "outputs": [],
   "source": [
    "\n",
    "# Create Rankings table\n",
    "cursor.execute(\"\"\"\n",
    "CREATE TABLE IF NOT EXISTS Competitor_Rankings (\n",
    "    rank_id INT PRIMARY KEY AUTO_INCREMENT,\n",
    "    `rank` INT NOT NULL,\n",
    "    movement INT NOT NULL,\n",
    "    points INT NOT NULL,\n",
    "    competitions_played INT NOT NULL,\n",
    "    competitor_id VARCHAR(50),\n",
    "    FOREIGN KEY (competitor_id) REFERENCES Competitors(competitor_id)\n",
    ");\n",
    "\"\"\")"
   ]
  },
  {
   "cell_type": "code",
   "execution_count": null,
   "id": "bbe26a7b",
   "metadata": {},
   "outputs": [],
   "source": [
    "# Prepare the data from df_rankings\n",
    "ranking_data = df_Competitor_Rankings[['rank', 'movement', 'points', 'competitions_played', 'competitor_id']].values.tolist()\n",
    "\n",
    "# Insert into Rankings\n",
    "cursor.executemany(\"\"\"\n",
    "INSERT IGNORE INTO Competitor_Rankings (`rank`, movement, points, competitions_played, competitor_id)\n",
    "VALUES (%s, %s, %s, %s, %s)\n",
    "\"\"\", ranking_data)"
   ]
  },
  {
   "cell_type": "code",
   "execution_count": null,
   "id": "0abf43d4",
   "metadata": {},
   "outputs": [],
   "source": [
    "conn.commit()"
   ]
  },
  {
   "cell_type": "code",
   "execution_count": null,
   "id": "6926277f",
   "metadata": {},
   "outputs": [],
   "source": [
    "# Close the cursor and connection\n",
    "cursor.close()\n",
    "conn.close()"
   ]
  }
 ],
 "metadata": {
  "kernelspec": {
   "display_name": ".venv",
   "language": "python",
   "name": "python3"
  },
  "language_info": {
   "codemirror_mode": {
    "name": "ipython",
    "version": 3
   },
   "file_extension": ".py",
   "mimetype": "text/x-python",
   "name": "python",
   "nbconvert_exporter": "python",
   "pygments_lexer": "ipython3",
   "version": "3.12.3"
  }
 },
 "nbformat": 4,
 "nbformat_minor": 5
}
