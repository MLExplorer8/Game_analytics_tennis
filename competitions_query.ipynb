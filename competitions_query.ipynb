{
 "cells": [
  {
   "cell_type": "code",
   "execution_count": null,
   "id": "1226835a",
   "metadata": {},
   "outputs": [],
   "source": [
    "# Connect to your MySQL database\n",
    "conn = mysql.connector.connect(\n",
    "    host='localhost',\n",
    "    user='root',\n",
    "    password='#sql',\n",
    "    database='Tennis'\n",
    ")"
   ]
  },
  {
   "cell_type": "code",
   "execution_count": null,
   "id": "f6a1c18e",
   "metadata": {},
   "outputs": [],
   "source": [
    "import mysql.connector\n",
    "import pandas as pd\n",
    "from tabulate import tabulate"
   ]
  },
  {
   "cell_type": "markdown",
   "id": "42f39447",
   "metadata": {},
   "source": [
    "<h2 style=\"color:white; font-weight:bold;\">COLLECT THE COMPETITION DATA FROM THE API ENDPOINTS</h2>"
   ]
  },
  {
   "cell_type": "markdown",
   "id": "3b878582",
   "metadata": {},
   "source": [
    "<h3 style=\"color:white; font-weight:bold;\">1)\tList all competitions along with their category name</h3>"
   ]
  },
  {
   "cell_type": "code",
   "execution_count": null,
   "id": "dd6dc6bc",
   "metadata": {},
   "outputs": [],
   "source": [
    "# SQL query\n",
    "query = \"\"\"SELECT c.competition_name, ca.category_name\n",
    "FROM Competitions c\n",
    "JOIN Categories ca ON c.category_id = ca.category_id\"\"\"\n",
    "# Read query into DataFrame\n",
    "df = pd.read_sql(query, conn)\n",
    "\n",
    "# Default Jupyter display (no need for tabulate)\n",
    "df\n",
    "\n",
    "# Optional: Pretty-print as text using tabulate (for CLI/console output or debugging)\n",
    "#print(tabulate(df, headers='keys', tablefmt='psql'))"
   ]
  },
  {
   "cell_type": "markdown",
   "id": "608a26f9",
   "metadata": {},
   "source": [
    "<h3 style=\"color:white; font-weight:bold;\">2) Count the number of competitions in each category</h3>"
   ]
  },
  {
   "cell_type": "code",
   "execution_count": null,
   "id": "0812d514",
   "metadata": {},
   "outputs": [],
   "source": [
    "# SQL query\n",
    "query = \"\"\"SELECT ca.category_name, COUNT(c.competition_id) AS competition_count \n",
    "FROM Competitions c\n",
    "JOIN Categories ca ON ca.category_id = c.category_id \n",
    "GROUP BY ca.category_name;\"\"\"\n",
    "\n",
    "# Read query into DataFrame\n",
    "df = pd.read_sql(query, conn)\n",
    "\n",
    "# Default Jupyter display (no need for tabulate)\n",
    "df\n"
   ]
  },
  {
   "cell_type": "markdown",
   "id": "0b9da6cf",
   "metadata": {},
   "source": [
    "<h3 style=\"color:white; font-weight:bold;\">3) Find all competitions of type 'doubles'</h3>\n"
   ]
  },
  {
   "cell_type": "code",
   "execution_count": null,
   "id": "7f1ab48d",
   "metadata": {},
   "outputs": [],
   "source": [
    "# SQL query\n",
    "query = \"\"\"SELECT competition_name\n",
    "FROM Competitions\n",
    "WHERE type = 'doubles';\"\"\"\n",
    "\n",
    "# Read query into DataFrame\n",
    "df = pd.read_sql(query, conn)\n",
    "\n",
    "# Default Jupyter display (no need for tabulate)\n",
    "df"
   ]
  },
  {
   "cell_type": "markdown",
   "id": "8c5a6cbd",
   "metadata": {},
   "source": [
    "<h3 style=\"color:white; font-weight:bold;\">4) Get competitions that belong to a specific category (e.g., ITF Men)</h3>\n",
    "\n"
   ]
  },
  {
   "cell_type": "code",
   "execution_count": null,
   "id": "a2d259e9",
   "metadata": {},
   "outputs": [],
   "source": [
    "# SQL query\n",
    "query = \"\"\"SELECT c.competition_name, ca.category_name\n",
    "FROM competitions c\n",
    "JOIN categories ca ON c.category_id = ca.category_id\n",
    "WHERE ca.category_name = 'ITF Men';\"\"\"\n",
    "\n",
    "# Read query into DataFrame\n",
    "df = pd.read_sql(query, conn)\n",
    "\n",
    "# Default Jupyter display (no need for tabulate)\n",
    "df"
   ]
  },
  {
   "cell_type": "markdown",
   "id": "5cfd046b",
   "metadata": {},
   "source": [
    "<h3 style=\"color:white; font-weight:bold;\">5) Identify parent competitions and their sub-competitions</h3>\n",
    "\n",
    "\n"
   ]
  },
  {
   "cell_type": "code",
   "execution_count": null,
   "id": "87269922",
   "metadata": {},
   "outputs": [],
   "source": [
    "# SQL query\n",
    "query = \"\"\"SELECT parent_id, competition_name\n",
    "FROM Competitions\n",
    "WHERE parent_id IS NOT NULL;\"\"\"\n",
    "\n",
    "# Read query into DataFrame\n",
    "df = pd.read_sql(query, conn)\n",
    "\n",
    "# Default Jupyter display (no need for tabulate)\n",
    "df"
   ]
  },
  {
   "cell_type": "markdown",
   "id": "a9f4a4fc",
   "metadata": {},
   "source": [
    "<h3 style=\"color:white; font-weight:bold;\">6) Analyze the distribution of competition types by category</h3>\n",
    "\n",
    "\n"
   ]
  },
  {
   "cell_type": "code",
   "execution_count": null,
   "id": "3e4df132",
   "metadata": {},
   "outputs": [],
   "source": [
    "\n",
    "# SQL query\n",
    "query = \"\"\"SELECT category_id, type, COUNT(*) AS total\n",
    "FROM Competitions\n",
    "GROUP BY category_id, type\n",
    "ORDER BY  total ASC;\n",
    "\"\"\"\n",
    "\n",
    "# Read query into DataFrame\n",
    "df = pd.read_sql(query, conn)\n",
    "\n",
    "# Default Jupyter display (no need for tabulate)\n",
    "df"
   ]
  },
  {
   "cell_type": "markdown",
   "id": "2fef6c21",
   "metadata": {},
   "source": [
    "<h3 style=\"color:white; font-weight:bold;\">7) List all competitions with no parent (top-level competitions)</h3>\n",
    "\n",
    "\n",
    "\n",
    "\t\t\n"
   ]
  },
  {
   "cell_type": "code",
   "execution_count": null,
   "id": "d2c3b68f",
   "metadata": {},
   "outputs": [],
   "source": [
    "# SQL query\n",
    "query = \"\"\"SELECT * \n",
    "FROM Competitions \n",
    "WHERE parent_id IS NULL;\"\"\"\n",
    "\n",
    "# Read query into DataFrame\n",
    "df = pd.read_sql(query, conn)\n",
    "\n",
    "# Default Jupyter display (no need for tabulate)\n",
    "df"
   ]
  }
 ],
 "metadata": {
  "kernelspec": {
   "display_name": ".venv",
   "language": "python",
   "name": "python3"
  },
  "language_info": {
   "codemirror_mode": {
    "name": "ipython",
    "version": 3
   },
   "file_extension": ".py",
   "mimetype": "text/x-python",
   "name": "python",
   "nbconvert_exporter": "python",
   "pygments_lexer": "ipython3",
   "version": "3.12.3"
  }
 },
 "nbformat": 4,
 "nbformat_minor": 5
}
