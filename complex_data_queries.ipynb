{
 "cells": [
  {
   "cell_type": "markdown",
   "id": "7cad0871",
   "metadata": {},
   "source": [
    "<h2 style=\"color:white; font-weight:bold;\">COLLECT THE COMPLEXES DATA FROM THE API ENDPOINTS</h2>"
   ]
  },
  {
   "cell_type": "code",
   "execution_count": null,
   "id": "18abb279",
   "metadata": {},
   "outputs": [],
   "source": [
    "import mysql.connector\n",
    "import pandas as pd\n",
    "from tabulate import tabulate"
   ]
  },
  {
   "cell_type": "code",
   "execution_count": null,
   "id": "beb90b72",
   "metadata": {},
   "outputs": [],
   "source": [
    "# Connect to your MySQL database\n",
    "conn = mysql.connector.connect(\n",
    "    host='localhost',\n",
    "    user='root',\n",
    "    password='#sql',\n",
    "    database='Tennis')"
   ]
  },
  {
   "cell_type": "markdown",
   "id": "4e574967",
   "metadata": {},
   "source": [
    "<h3 style=\"color:white; font-weight:bold;\">1) List all venues along with their associated complex name</h3>"
   ]
  },
  {
   "cell_type": "code",
   "execution_count": null,
   "id": "cbc74800",
   "metadata": {},
   "outputs": [],
   "source": [
    "# SQL query\n",
    "query = \"\"\"SELECT v.venue_name, c.complex_name\n",
    "FROM  Venues v\n",
    "JOIN Complexes c ON v.complex_id = c.complex_id;\n",
    "\"\"\"\n",
    "# Read query into DataFrame\n",
    "df = pd.read_sql(query, conn)\n",
    "\n",
    "# Default Jupyter display (no need for tabulate)\n",
    "df"
   ]
  },
  {
   "cell_type": "markdown",
   "id": "29208025",
   "metadata": {},
   "source": [
    "<h3 style=\"color:white; font-weight:bold;\">2) Count the number of venues in each complex</h3>\n",
    "\n"
   ]
  },
  {
   "cell_type": "code",
   "execution_count": null,
   "id": "75676d2f",
   "metadata": {},
   "outputs": [],
   "source": [
    "# SQL query\n",
    "query = \"\"\"SELECT \n",
    "    c.complex_name, \n",
    "    COUNT(v.venue_id) AS venue_count\n",
    "FROM \n",
    "    Complexes c\n",
    "JOIN \n",
    "    Venues v ON c.complex_id = v.complex_id\n",
    "GROUP BY \n",
    "    c.complex_name\n",
    "ORDER BY \n",
    "    venue_count DESC;\n",
    "\"\"\"\n",
    "# Read query into DataFrame\n",
    "df = pd.read_sql(query, conn)\n",
    "\n",
    "# Default Jupyter display (no need for tabulate)\n",
    "df"
   ]
  },
  {
   "cell_type": "markdown",
   "id": "41f9647f",
   "metadata": {},
   "source": [
    "<h3 style=\"color:white; font-weight:bold;\">3) Get details of venues in a specific country (e.g., Chile)</h3>\n"
   ]
  },
  {
   "cell_type": "code",
   "execution_count": null,
   "id": "635debd0",
   "metadata": {},
   "outputs": [],
   "source": [
    "#query\n",
    "query = \"\"\"SELECT *\n",
    "FROM Venues\n",
    "WHERE country_name = 'Chile';\n",
    "\"\"\"\n",
    "# Read query into DataFrame\n",
    "df = pd.read_sql(query, conn)\n",
    "\n",
    "# Default Jupyter display (no need for tabulate)\n",
    "df"
   ]
  },
  {
   "cell_type": "markdown",
   "id": "21f1073a",
   "metadata": {},
   "source": [
    "\n",
    "<h3 style=\"color:white; font-weight:bold;\">4) Identify all venues and their timezones</h3>"
   ]
  },
  {
   "cell_type": "code",
   "execution_count": null,
   "id": "de594785",
   "metadata": {},
   "outputs": [],
   "source": [
    "#query\n",
    "query = \"\"\"SELECT venue_name, timezone\n",
    "FROM Venues;\n",
    "\"\"\"\n",
    "# Read query into DataFrame\n",
    "df = pd.read_sql(query, conn)\n",
    "\n",
    "# Default Jupyter display (no need for tabulate)\n",
    "df"
   ]
  },
  {
   "cell_type": "markdown",
   "id": "9d459be0",
   "metadata": {},
   "source": [
    "<h3 style=\"color:white; font-weight:bold;\">5) Find complexes that have more than one venue</h3>"
   ]
  },
  {
   "cell_type": "code",
   "execution_count": null,
   "id": "7a81baf7",
   "metadata": {},
   "outputs": [],
   "source": [
    "#query\n",
    "query = \"\"\"SELECT c.complex_id, c.complex_name, COUNT(v.venue_id) AS venue_count\n",
    "FROM Complexes c\n",
    "JOIN Venues v ON c.complex_id = v.complex_id\n",
    "GROUP BY c.complex_id, c.complex_name\n",
    "HAVING COUNT(v.venue_id) > 1;\n",
    "\"\"\"\n",
    "# Read query into DataFrame\n",
    "df = pd.read_sql(query, conn)\n",
    "\n",
    "# Default Jupyter display (no need for tabulate)\n",
    "df"
   ]
  },
  {
   "cell_type": "markdown",
   "id": "32eda27e",
   "metadata": {},
   "source": [
    "<h3 style=\"color:white; font-weight:bold;\">6) List venues grouped by country</h3>"
   ]
  },
  {
   "cell_type": "code",
   "execution_count": null,
   "id": "01559123",
   "metadata": {},
   "outputs": [],
   "source": [
    "#query\n",
    "query = \"\"\"SELECT country_name, COUNT(*) AS venue_count\n",
    "FROM Venues\n",
    "GROUP BY country_name\n",
    "ORDER BY venue_count DESC;;\n",
    "\"\"\"\n",
    "# Read query into DataFrame\n",
    "df = pd.read_sql(query, conn)\n",
    "\n",
    "# Default Jupyter display (no need for tabulate)\n",
    "df"
   ]
  },
  {
   "cell_type": "markdown",
   "id": "e92d0e66",
   "metadata": {},
   "source": [
    "<h3 style=\"color:white; font-weight:bold;\">7) Find all venues for a specific complex (e.g., Nacional)</h3>"
   ]
  },
  {
   "cell_type": "code",
   "execution_count": null,
   "id": "bc9f16fb",
   "metadata": {},
   "outputs": [],
   "source": [
    "#query\n",
    "query = \"\"\"SELECT v.venue_name, v.city_name, v.country_name,c.complex_name\n",
    "FROM Venues v\n",
    "JOIN Complexes c ON v.complex_id = c.complex_id\n",
    "WHERE c.complex_name = 'Nacional';\n",
    "\"\"\"\n",
    "# Read query into DataFrame\n",
    "df = pd.read_sql(query, conn)\n",
    "\n",
    "# Default Jupyter display (no need for tabulate)\n",
    "df"
   ]
  }
 ],
 "metadata": {
  "kernelspec": {
   "display_name": ".venv",
   "language": "python",
   "name": "python3"
  },
  "language_info": {
   "codemirror_mode": {
    "name": "ipython",
    "version": 3
   },
   "file_extension": ".py",
   "mimetype": "text/x-python",
   "name": "python",
   "nbconvert_exporter": "python",
   "pygments_lexer": "ipython3",
   "version": "3.12.3"
  }
 },
 "nbformat": 4,
 "nbformat_minor": 5
}
